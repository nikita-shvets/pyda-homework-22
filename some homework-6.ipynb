{
 "cells": [
  {
   "cell_type": "code",
   "execution_count": 11,
   "metadata": {},
   "outputs": [],
   "source": [
    " # Подгрузим пакеты \n",
    "import numpy as np\n",
    "import pandas as pd\n",
    "import scipy.stats as stats \n",
    "import matplotlib.pyplot as plt  #Пакет для построения графиков и прочего\n",
    "import seaborn as sns"
   ]
  },
  {
   "cell_type": "markdown",
   "metadata": {},
   "source": [
    "<p style=\"align: center;\"><img align=center src=\"https://netology.ru/backend/tilda/images/tild3439-3364-4535-b334-656263633534__main.svg\"  width=900></p>\n",
    "<h3 style=\"text-align: center;\"><b>«Статистическая проверка гипотез для связанных выборок. A/B тесты и как их проводить»</b></h3>\n"
   ]
  },
  {
   "cell_type": "code",
   "execution_count": null,
   "metadata": {},
   "outputs": [],
   "source": []
  },
  {
   "cell_type": "code",
   "execution_count": 19,
   "metadata": {},
   "outputs": [
    {
     "name": "stdout",
     "output_type": "stream",
     "text": [
      "    A   B   C   D\n",
      "0  25  45  30  54\n",
      "1  30  55  29  60\n",
      "2  28  29  33  51\n",
      "3  36  56  37  62\n",
      "4  29  40  27  73\n",
      "    index treatments  value\n",
      "0       0          A     25\n",
      "1       1          A     30\n",
      "2       2          A     28\n",
      "3       3          A     36\n",
      "4       4          A     29\n",
      "5       0          B     45\n",
      "6       1          B     55\n",
      "7       2          B     29\n",
      "8       3          B     56\n",
      "9       4          B     40\n",
      "10      0          C     30\n",
      "11      1          C     29\n",
      "12      2          C     33\n",
      "13      3          C     37\n",
      "14      4          C     27\n",
      "15      0          D     54\n",
      "16      1          D     60\n",
      "17      2          D     51\n",
      "18      3          D     62\n",
      "19      4          D     73\n"
     ]
    }
   ],
   "source": [
    "df = pd.read_csv(\"https://reneshbedre.github.io/assets/posts/anova/onewayanova.txt\", sep=\"\\t\") # Подгрузим данные\n",
    "print(df)\n",
    "# изменим формат  данных, подходящего для пакета statsmodels\n",
    "df_melt = pd.melt(df.reset_index(), id_vars=['index'], value_vars=['A', 'B', 'C', 'D'])\n",
    " \n",
    "\n",
    "df_melt.columns = ['index', 'treatments', 'value'] # заменяем имена столбцов\n",
    "print(df_melt)"
   ]
  },
  {
   "cell_type": "markdown",
   "metadata": {},
   "source": [
    "**Получаем коробчатую диаграмму, чтобы увидеть распределение данных по группам.** \n",
    "\n",
    "**Используя коробчатую диаграмму, мы можем легко обнаружить различия между разными методами лечения**"
   ]
  },
  {
   "cell_type": "code",
   "execution_count": null,
   "metadata": {},
   "outputs": [],
   "source": [
    "import seaborn as sns  # Еще дна библиотека для визуализации данных, но более продвинутая\n",
    "#sns.set(rc={'figure.figsize':(10, 5)})  # можно менять ширину и высоту при желании\n",
    "\n",
    "\n",
    "ax = sns.boxplot(x='treatments', y='value', data=df_melt, color='#99c2a2')\n",
    "#ax = sns.swarmplot(x=\"treatments\", y=\"value\", data=df_melt, color='#7d0013')\n",
    "plt.show()"
   ]
  },
  {
   "cell_type": "code",
   "execution_count": null,
   "metadata": {},
   "outputs": [],
   "source": [
    " "
   ]
  },
  {
   "cell_type": "code",
   "execution_count": null,
   "metadata": {},
   "outputs": [],
   "source": [
    "import scipy.stats as stats\n",
    "# Функция f_oneway принимает группы в качестве входных данных и возвращает значения F и P\n",
    "fvalue, pvalue = stats.f_oneway(df['A'],  df['B'], df['C'], df['D'])\n",
    "print(fvalue, pvalue)\n",
    "# 17.492810457516338 2.639241146210922e-05"
   ]
  },
  {
   "cell_type": "code",
   "execution_count": null,
   "metadata": {},
   "outputs": [],
   "source": [
    "fvalue, pvalue = stats.f_oneway(df['A'], df['C'])\n",
    "fvalue, pvalue"
   ]
  },
  {
   "cell_type": "code",
   "execution_count": null,
   "metadata": {},
   "outputs": [],
   "source": []
  },
  {
   "cell_type": "markdown",
   "metadata": {},
   "source": [
    "### Начнем с датасета про морских гребешков"
   ]
  },
  {
   "cell_type": "code",
   "execution_count": 25,
   "metadata": {},
   "outputs": [
    {
     "data": {
      "text/html": [
       "<div>\n",
       "<style scoped>\n",
       "    .dataframe tbody tr th:only-of-type {\n",
       "        vertical-align: middle;\n",
       "    }\n",
       "\n",
       "    .dataframe tbody tr th {\n",
       "        vertical-align: top;\n",
       "    }\n",
       "\n",
       "    .dataframe thead th {\n",
       "        text-align: right;\n",
       "    }\n",
       "</style>\n",
       "<table border=\"1\" class=\"dataframe\">\n",
       "  <thead>\n",
       "    <tr style=\"text-align: right;\">\n",
       "      <th></th>\n",
       "      <th>Sex</th>\n",
       "      <th>Length</th>\n",
       "      <th>Diameter</th>\n",
       "      <th>Height</th>\n",
       "      <th>Whole weight</th>\n",
       "      <th>Shucked weight</th>\n",
       "      <th>Viscera weight</th>\n",
       "      <th>Shell weight</th>\n",
       "      <th>Rings</th>\n",
       "    </tr>\n",
       "  </thead>\n",
       "  <tbody>\n",
       "    <tr>\n",
       "      <th>0</th>\n",
       "      <td>M</td>\n",
       "      <td>0.455</td>\n",
       "      <td>0.365</td>\n",
       "      <td>0.095</td>\n",
       "      <td>0.5140</td>\n",
       "      <td>0.2245</td>\n",
       "      <td>0.1010</td>\n",
       "      <td>0.15</td>\n",
       "      <td>15</td>\n",
       "    </tr>\n",
       "    <tr>\n",
       "      <th>1</th>\n",
       "      <td>M</td>\n",
       "      <td>0.350</td>\n",
       "      <td>0.265</td>\n",
       "      <td>0.090</td>\n",
       "      <td>0.2255</td>\n",
       "      <td>0.0995</td>\n",
       "      <td>0.0485</td>\n",
       "      <td>0.07</td>\n",
       "      <td>7</td>\n",
       "    </tr>\n",
       "    <tr>\n",
       "      <th>2</th>\n",
       "      <td>F</td>\n",
       "      <td>0.530</td>\n",
       "      <td>0.420</td>\n",
       "      <td>0.135</td>\n",
       "      <td>0.6770</td>\n",
       "      <td>0.2565</td>\n",
       "      <td>0.1415</td>\n",
       "      <td>0.21</td>\n",
       "      <td>9</td>\n",
       "    </tr>\n",
       "  </tbody>\n",
       "</table>\n",
       "</div>"
      ],
      "text/plain": [
       "  Sex  Length  Diameter  Height  Whole weight  Shucked weight  Viscera weight  \\\n",
       "0   M   0.455     0.365   0.095        0.5140          0.2245          0.1010   \n",
       "1   M   0.350     0.265   0.090        0.2255          0.0995          0.0485   \n",
       "2   F   0.530     0.420   0.135        0.6770          0.2565          0.1415   \n",
       "\n",
       "   Shell weight  Rings  \n",
       "0          0.15     15  \n",
       "1          0.07      7  \n",
       "2          0.21      9  "
      ]
     },
     "execution_count": 25,
     "metadata": {},
     "output_type": "execute_result"
    }
   ],
   "source": [
    "abalone = 'https://raw.githubusercontent.com/a-milenkin/datasets_for_t-tests/main/abalone.csv'\n",
    "data = pd.read_csv(abalone, error_bad_lines=False)\n",
    "data.head(3)"
   ]
  },
  {
   "cell_type": "code",
   "execution_count": null,
   "metadata": {},
   "outputs": [],
   "source": [
    "half = len(data['Length']) // 2 \n",
    "\n",
    "sam1 = data.loc[half:, 'Length'] # Берем первую половину данных\n",
    "sam2 = data.loc[:half, 'Length'] # Берем вторую половину данных\n",
    "\n",
    "stats.ttest_ind(sam2, sam1) # применяем тест Стьюдента. "
   ]
  },
  {
   "cell_type": "code",
   "execution_count": null,
   "metadata": {},
   "outputs": [],
   "source": [
    "stats.ttest_ind(df['A'],  df['C'])"
   ]
  },
  {
   "cell_type": "markdown",
   "metadata": {},
   "source": [
    "# Дисперсионный анализ и датасет про раковины"
   ]
  },
  {
   "cell_type": "markdown",
   "metadata": {},
   "source": [
    "<div class=\"alert alert-info\">\n",
    "Вот некоторые данные об измерении раковины (длина рубца передней приводящей мышцы, стандартизированная путем деления на длину) у мидии Mytilus trossulus из пяти мест: \n",
    "Тилламук, Орегон; Ньюпорт, Орегон; Петербург, Аляска; Магадан, Россия и Tvarminne, Финляндия.\n",
    "</div>"
   ]
  },
  {
   "cell_type": "code",
   "execution_count": 2,
   "metadata": {},
   "outputs": [
    {
     "name": "stdout",
     "output_type": "stream",
     "text": [
      "7.121019471642447 0.0002812242314534544\n",
      "Разное распределение (отклоняем H0)\n"
     ]
    }
   ],
   "source": [
    "from scipy.stats import f_oneway # импортирем функцию для дисперсионного анализа из библиотеки scipy пакета stats\n",
    "\n",
    "# Берем несколько выборок с размерами раковин разных видов\n",
    "tillamook = [0.0571, 0.0813, 0.0831, 0.0976, 0.0817, 0.0859, 0.0735, 0.0659, 0.0923, 0.0836]\n",
    "newport = [0.0873, 0.0662, 0.0672, 0.0819, 0.0749, 0.0649, 0.0835,0.0725]\n",
    "petersburg = [0.0974, 0.1352, 0.0817, 0.1016, 0.0968, 0.1064, 0.105]\n",
    "magadan = [0.1033, 0.0915, 0.0781, 0.0685, 0.0677, 0.0697, 0.0764, 0.0689]\n",
    "tvarminne = [0.0703, 0.1026, 0.0956, 0.0973, 0.1039, 0.1045]\n",
    "\n",
    "F, p = f_oneway(tillamook, newport, petersburg, magadan, tvarminne)  # дисперсионный анализ (ДА) в python\n",
    "\n",
    "alpha = 0.05  # Уровень значимости\n",
    "print(F, p)   # Смотрим на результаты ДА\n",
    "\n",
    "if p > alpha:\n",
    "    print('Одинаковое распределение (не отвергаем H0)')\n",
    "else:\n",
    "    print('Разное распределение (отклоняем H0)')"
   ]
  },
  {
   "cell_type": "code",
   "execution_count": 3,
   "metadata": {},
   "outputs": [
    {
     "ename": "NameError",
     "evalue": "name 'pd' is not defined",
     "output_type": "error",
     "traceback": [
      "\u001b[1;31m---------------------------------------------------------------------------\u001b[0m",
      "\u001b[1;31mNameError\u001b[0m                                 Traceback (most recent call last)",
      "\u001b[1;32m<ipython-input-3-a12c9713f80e>\u001b[0m in \u001b[0;36m<module>\u001b[1;34m\u001b[0m\n\u001b[0;32m      4\u001b[0m \u001b[0msizes\u001b[0m \u001b[1;33m=\u001b[0m \u001b[0mtillamook\u001b[0m \u001b[1;33m+\u001b[0m \u001b[0mnewport\u001b[0m \u001b[1;33m+\u001b[0m\u001b[0mpetersburg\u001b[0m \u001b[1;33m+\u001b[0m \u001b[0mmagadan\u001b[0m \u001b[1;33m+\u001b[0m \u001b[0mtvarminne\u001b[0m\u001b[1;33m\u001b[0m\u001b[1;33m\u001b[0m\u001b[0m\n\u001b[0;32m      5\u001b[0m \u001b[0mkinds\u001b[0m \u001b[1;33m=\u001b[0m \u001b[1;33m[\u001b[0m\u001b[1;34m'tillamook'\u001b[0m\u001b[1;33m]\u001b[0m\u001b[1;33m*\u001b[0m\u001b[0mlen\u001b[0m\u001b[1;33m(\u001b[0m\u001b[0mtillamook\u001b[0m\u001b[1;33m)\u001b[0m \u001b[1;33m+\u001b[0m \u001b[1;33m[\u001b[0m\u001b[1;34m'newport'\u001b[0m\u001b[1;33m]\u001b[0m\u001b[1;33m*\u001b[0m\u001b[0mlen\u001b[0m\u001b[1;33m(\u001b[0m\u001b[0mnewport\u001b[0m\u001b[1;33m)\u001b[0m\u001b[1;33m+\u001b[0m\u001b[1;33m[\u001b[0m\u001b[1;34m'petersburg'\u001b[0m\u001b[1;33m]\u001b[0m\u001b[1;33m*\u001b[0m\u001b[0mlen\u001b[0m\u001b[1;33m(\u001b[0m\u001b[0mpetersburg\u001b[0m\u001b[1;33m)\u001b[0m\u001b[1;33m+\u001b[0m\u001b[1;33m[\u001b[0m\u001b[1;34m'magadan'\u001b[0m\u001b[1;33m]\u001b[0m\u001b[1;33m*\u001b[0m\u001b[0mlen\u001b[0m\u001b[1;33m(\u001b[0m\u001b[0mmagadan\u001b[0m\u001b[1;33m)\u001b[0m \u001b[1;33m+\u001b[0m \u001b[1;33m[\u001b[0m\u001b[1;34m'tvarminne'\u001b[0m\u001b[1;33m]\u001b[0m\u001b[1;33m*\u001b[0m\u001b[0mlen\u001b[0m\u001b[1;33m(\u001b[0m\u001b[0mtvarminne\u001b[0m\u001b[1;33m)\u001b[0m\u001b[1;33m\u001b[0m\u001b[1;33m\u001b[0m\u001b[0m\n\u001b[1;32m----> 6\u001b[1;33m \u001b[0mdf_mid\u001b[0m \u001b[1;33m=\u001b[0m \u001b[0mpd\u001b[0m\u001b[1;33m.\u001b[0m\u001b[0mDataFrame\u001b[0m\u001b[1;33m(\u001b[0m\u001b[1;33m)\u001b[0m\u001b[1;33m\u001b[0m\u001b[1;33m\u001b[0m\u001b[0m\n\u001b[0m\u001b[0;32m      7\u001b[0m \u001b[0mdf_mid\u001b[0m\u001b[1;33m[\u001b[0m\u001b[1;34m'sizes'\u001b[0m\u001b[1;33m]\u001b[0m \u001b[1;33m=\u001b[0m \u001b[0msizes\u001b[0m\u001b[1;33m\u001b[0m\u001b[1;33m\u001b[0m\u001b[0m\n\u001b[0;32m      8\u001b[0m \u001b[0mdf_mid\u001b[0m\u001b[1;33m[\u001b[0m\u001b[1;34m'kinds'\u001b[0m\u001b[1;33m]\u001b[0m \u001b[1;33m=\u001b[0m \u001b[0mkinds\u001b[0m\u001b[1;33m\u001b[0m\u001b[1;33m\u001b[0m\u001b[0m\n",
      "\u001b[1;31mNameError\u001b[0m: name 'pd' is not defined"
     ]
    }
   ],
   "source": [
    "import seaborn as sns  # Еще дна библиотека для визуализации данных, но более продвинутая\n",
    " \n",
    "#Немного преобразуем данные, не важно как\n",
    "sizes = tillamook + newport +petersburg + magadan + tvarminne\n",
    "kinds = ['tillamook']*len(tillamook) + ['newport']*len(newport)+['petersburg']*len(petersburg)+['magadan']*len(magadan) + ['tvarminne']*len(tvarminne)\n",
    "df_mid = pd.DataFrame()\n",
    "df_mid['sizes'] = sizes\n",
    "df_mid['kinds'] = kinds\n",
    "\n",
    "\n",
    "ax = sns.boxplot(x='kinds', y='sizes', data=df_mid, color='#99c2a2')\n",
    "#ax = sns.swarmplot(x=\"kinds\", y=\"sizes\", data=df_mid, color='#7d0013')\n",
    "plt.show()"
   ]
  },
  {
   "cell_type": "code",
   "execution_count": null,
   "metadata": {},
   "outputs": [],
   "source": [
    " "
   ]
  },
  {
   "cell_type": "markdown",
   "metadata": {},
   "source": [
    "**Можете привести пример когда выборки зависимы, а когда нет ?**"
   ]
  },
  {
   "cell_type": "markdown",
   "metadata": {},
   "source": [
    "# Критерием Манна-Уитни"
   ]
  },
  {
   "cell_type": "code",
   "execution_count": null,
   "metadata": {},
   "outputs": [],
   "source": [
    "# Тест Вилкоксона для независимых выборок также называется критерием Манна-Уитни\n",
    "\n",
    "from scipy.stats import mannwhitneyu # Импортируем нужный тест из пакета scipy\n",
    " \n",
    "# Генерируем две независимых выборки\n",
    "group =  [20, 23, 21, 25, 18, 17, 18, 24, 20, 24, 23, 19]*5  # Некий общий элемент\n",
    "group_1 = group*5\n",
    "group_2 = [24, 25, 21, 22, 23, 18, 17, 28, 24, 27, 21, 23]*5\n",
    "\n",
    "# Сравнение групп\n",
    "stat, p = mannwhitneyu(group_1, group_2) # U-тест Манна-Уитни\n",
    "print('Statistics=%.3f, p=%.3f' % (stat, p))\n",
    "\n",
    "\n",
    "# Интерпретируем\n",
    "alpha = 0.05   # Уровень значимости\n",
    "if p > alpha:\n",
    "    print('Одинаковые распределения (не отвергаем H0)')\n",
    "else:\n",
    "    print('Разные распределения (отвергаем H0)')"
   ]
  },
  {
   "cell_type": "code",
   "execution_count": null,
   "metadata": {},
   "outputs": [],
   "source": [
    "print(np.mean(group_1), np.mean(group_2))\n",
    "\n",
    "plt.hist(group_1)\n",
    "plt.hist(group_2)"
   ]
  },
  {
   "cell_type": "code",
   "execution_count": null,
   "metadata": {},
   "outputs": [],
   "source": [
    "data_group = pd.DataFrame()\n",
    "data_group['value'] = group_1 + group_2 \n",
    "data_group['group'] = ['group_1']*len(group_1)+['group_2']*len(group_2)\n",
    "\n",
    "ax = sns.boxplot(x='group', y='value', data=data_group, color='#99c2a2')\n",
    "ax = sns.swarmplot(x=\"group\", y=\"value\", data=data_group, color='#7d0013')\n",
    "plt.show()\n",
    "# pd.DataFrame(group_2).hist()\n",
    "\n"
   ]
  },
  {
   "cell_type": "code",
   "execution_count": null,
   "metadata": {},
   "outputs": [],
   "source": [
    " "
   ]
  },
  {
   "cell_type": "markdown",
   "metadata": {},
   "source": [
    "**Какие выборки зависимы? Приведите пример**"
   ]
  },
  {
   "cell_type": "markdown",
   "metadata": {},
   "source": [
    "# Критерий Уилкоксона  "
   ]
  },
  {
   "cell_type": "code",
   "execution_count": null,
   "metadata": {},
   "outputs": [],
   "source": [
    "from scipy.stats import wilcoxon  # Wilcoxon signed-rank test\n",
    " \n",
    "\n",
    "group =  [20, 23, 21, 25, 18, 17, 18, 24, 20, 24, 23, 19]  # Некий общий элемент\n",
    "\n",
    "group_1 = group + group \n",
    "\n",
    "group_2 = group + [24, 25, 21, 22, 23, 18, 17, 28, 24, 27, 21, 23]\n",
    "\n",
    "group_3 = group + [20, 23, 21, 25, 18, 17, 18, 24, 20, 24, 23, 18] # отличие только в одном элементе\n",
    "\n",
    "import scipy.stats as stats\n",
    "\n",
    "#Выполняем the Wilcoxon-Signed Rank Test\n",
    " \n",
    "\n",
    "stat, p = wilcoxon(group_1, group_2)\n",
    "#stat, p = wilcoxon(group_1, group_3)\n",
    "print('Statistics=%.3f, p=%.3f' % (stat, p))\n",
    "# interpret\n",
    "alpha = 0.05\n",
    "if p > alpha:\n",
    "    print('Одинаковые распределения (не отвергаем H0)')\n",
    "else:\n",
    "    print('Разные распределения (отвергаем H0)')"
   ]
  },
  {
   "cell_type": "code",
   "execution_count": null,
   "metadata": {},
   "outputs": [],
   "source": [
    "  \n",
    "plt.hist(group_1)\n",
    "plt.hist(group_2)"
   ]
  },
  {
   "cell_type": "code",
   "execution_count": null,
   "metadata": {},
   "outputs": [],
   "source": [
    "data_group = pd.DataFrame()\n",
    "data_group['value'] = group_1 + group_2 \n",
    "data_group['group'] = ['group_1']*len(group_1)+['group_2']*len(group_2)\n",
    "\n",
    "ax = sns.boxplot(x='group', y='value', data=data_group, color='#99c2a2')\n",
    "ax = sns.swarmplot(x=\"group\", y=\"value\", data=data_group, color='#7d0013')\n",
    "plt.show()\n",
    "# pd.DataFrame(group_2).hist()\n",
    "\n"
   ]
  },
  {
   "cell_type": "code",
   "execution_count": null,
   "metadata": {},
   "outputs": [],
   "source": []
  },
  {
   "cell_type": "markdown",
   "metadata": {},
   "source": [
    "# Задания для самостоятельного решения"
   ]
  },
  {
   "cell_type": "markdown",
   "metadata": {},
   "source": [
    "**Замечание: 1** Предполагается, что для решения заданий  № 1-3 будут использоваться разные тесты.\n",
    "\n",
    "**Замечание: 2** Для зачета уже достаточно половины абсолютно верно решенных заданий. \n",
    "\n",
    "Если возникают сложности по ходу решения - пиште свой вопрос в общий чат в Slack. Там всегда подскажут) \n",
    "\n",
    "\n"
   ]
  },
  {
   "cell_type": "markdown",
   "metadata": {},
   "source": [
    "<div class=\"alert alert-info\">\n",
    "<b>Задание № 1</b>\n",
    "Вам даны результаты проверки двух препаратов.\n",
    "    \n",
    "\n",
    "Требуется:\n",
    "- Оценить, есть ли различие в эффекте у этих пациентов?\n",
    "- Визуально подтвердить результат\n",
    "    \n",
    "`A` - результаты для группы людей получающих препарат А.\n",
    "\n",
    "`B` - результаты для другой группы людей, получающих препарат B.\n",
    "    \n",
    "</div>"
   ]
  },
  {
   "cell_type": "code",
   "execution_count": null,
   "metadata": {},
   "outputs": [],
   "source": [
    "np.random.seed(11)\n",
    "A = stats.norm.rvs(scale=30, loc=11, size=100)\n",
    "B = A + stats.norm.rvs(scale=54, loc=11, size=100)\n",
    "\n",
    "# Ваш код.\n",
    "print(stats.ttest_ind(a=A, b=B, equal_var=False))\n",
    "plt.hist(A, bins = 5, alpha = 0.3, density = True);\n",
    "plt.hist(B, bins = 5,alpha = 0.3, density = True);\n",
    "# не факт что различие неслучайно."
   ]
  },
  {
   "cell_type": "markdown",
   "metadata": {},
   "source": [
    "<div class=\"alert alert-info\">\n",
    "<b>Задание № 2</b>\n",
    "Вам даны результаты проверки двух препаратов. \n",
    "    \n",
    "Требуется: \n",
    "- Оценить, есть ли различие в эффекте у этих пациентов?\n",
    "- Визуально подтвердить результат\n",
    "    \n",
    "`А` - группа людей без препарата.\n",
    "\n",
    "`B` - та же группа людей, но получающая препарат\n",
    "</div>"
   ]
  },
  {
   "cell_type": "code",
   "execution_count": null,
   "metadata": {},
   "outputs": [],
   "source": [
    "np.random.seed(11)\n",
    "A = stats.norm.rvs(scale=30, loc=11, size=100)\n",
    "B = A + stats.norm.rvs(scale=54, loc=11, size=100)\n",
    "\n",
    "# Ваш код.\n",
    "print(stats.ttest_rel(a=A,b=B))\n",
    "plt.hist(A, bins = 5, alpha = 0.3, density = True);\n",
    "plt.hist(B, bins = 5,alpha = 0.3, density = True);\n",
    "# различия есть "
   ]
  },
  {
   "cell_type": "markdown",
   "metadata": {},
   "source": [
    "<div class=\"alert alert-info\">\n",
    "<b>Задание № 3</b>\n",
    "Допустим вы решили устроить дачный эксперимент. Берем и поливаем одни огурцы водой, другие огурцы водой с удобнением, третью группу огурцов будем поливать минералкой. \n",
    "    \n",
    " - Используя дисперсионный анализ, сделайте выводы о распредлениях результатов. Есть ли эффект от удобрения по сравнению с минералкой? \n",
    " - Помимо результата статистического теста, продемонстрируйте отличия визуально с помощью `boxplot` или `hist`\n",
    "    \n",
    "`water = [1,2,3,4,2,4,2,4,5,2,3,4,2,1,3,4,3,2,5,1]`\n",
    "\n",
    "`nutri = [1,2,4,6,5,6,7,5,4,5,6,7,4,3,5,5,6,5,4,3,5]`\n",
    "\n",
    "`mineral =[2,1,1,3,2,4,2,4,5,4,3,2,3,2,3,1,3,4,5,1,4]`\n",
    "</div>"
   ]
  },
  {
   "cell_type": "code",
   "execution_count": null,
   "metadata": {},
   "outputs": [],
   "source": [
    "water = [1,2,3,4,2,4,2,4,5,2,3,4,2,1,3,4,3,2,5,1]\n",
    "nutri = [1,2,4,6,5,6,7,5,4,5,6,7,4,3,5,5,6,5,4,3,5]\n",
    "mineral =[2,1,1,3,2,4,2,4,5,4,3,2,3,2,3,1,3,4,5,1,4]\n",
    "\n",
    "# Ваш код.\n",
    "F, p = f_oneway(water, nutri, mineral)\n",
    "print(F,p)\n",
    "# на осонове анализа можно сказать что эффект от удобрения по сравнени. с минералкой есть"
   ]
  },
  {
   "cell_type": "code",
   "execution_count": null,
   "metadata": {},
   "outputs": [],
   "source": [
    "plt.hist(water, bins = 5, alpha = 0.3, density = True)\n",
    "plt.hist(nutri, bins = 5,alpha = 0.3, density = True)\n",
    "plt.hist(mineral, bins = 5,alpha = 0.3, density = True)"
   ]
  },
  {
   "cell_type": "code",
   "execution_count": null,
   "metadata": {},
   "outputs": [],
   "source": []
  },
  {
   "cell_type": "code",
   "execution_count": null,
   "metadata": {},
   "outputs": [],
   "source": []
  },
  {
   "cell_type": "markdown",
   "metadata": {},
   "source": [
    "# Cookie Cats"
   ]
  },
  {
   "cell_type": "markdown",
   "metadata": {},
   "source": [
    "<div class=\"alert alert-info\">\n",
    "Cookie Cats - чрезвычайно популярная мобильная игра-головоломка, разработанная Tactile Entertainment. Это классическая игра-головоломка в стиле «соедините три», в которой игрок должен соединять плитки одного цвета, чтобы очистить поле и выиграть уровень. Здесь также есть поющие кошки. Посмотрите эту короткую демонстрацию:\n",
    "</div>"
   ]
  },
  {
   "cell_type": "markdown",
   "metadata": {},
   "source": [
    "<p style=\"align: center;\"><img align=center src=\"https://i.ytimg.com/vi/iPxZIp0cbJE/maxresdefault.jpg\"  width=500></p>\n",
    " \n",
    " \n",
    "<p style=\"align: center;\"><img align=center src=\"https://s3.amazonaws.com/assets.datacamp.com/production/project_184/img/cc_gates.png\"  width=500></p>\n"
   ]
  },
  {
   "cell_type": "markdown",
   "metadata": {},
   "source": [
    "<div class=\"alert alert-info\">\n",
    "По мере прохождения уровней игры игроки время от времени сталкиваются с воротами, которые заставляют их ждать нетривиальное количество времени или совершать покупки в приложении, чтобы продолжить. Помимо стимулирования покупок в приложении, эти ворота служат важной цели - дать игрокам вынужденный перерыв в игре, что, как мы надеемся, приведет к увеличению и продлению удовольствия от игры.\n",
    "</div>"
   ]
  },
  {
   "cell_type": "markdown",
   "metadata": {},
   "source": [
    "<div class=\"alert alert-info\">\n",
    "<b>Но где ставить ворота? </b>\n",
    "Первоначально первые ворота были размещены на уровне 30. В этом проекте вам предлагается проанализировать AB-тест, в котором создатели переместили первые ворота в Cookie Cats с 30 уровня на уровень 40. В частности, вам надо рассмотрим влияние A/B теста на удержание игроков.\n",
    "</div>"
   ]
  },
  {
   "cell_type": "markdown",
   "metadata": {},
   "source": [
    "# Данные A/B тестирования"
   ]
  },
  {
   "cell_type": "code",
   "execution_count": 29,
   "metadata": {},
   "outputs": [
    {
     "data": {
      "text/html": [
       "<div>\n",
       "<style scoped>\n",
       "    .dataframe tbody tr th:only-of-type {\n",
       "        vertical-align: middle;\n",
       "    }\n",
       "\n",
       "    .dataframe tbody tr th {\n",
       "        vertical-align: top;\n",
       "    }\n",
       "\n",
       "    .dataframe thead th {\n",
       "        text-align: right;\n",
       "    }\n",
       "</style>\n",
       "<table border=\"1\" class=\"dataframe\">\n",
       "  <thead>\n",
       "    <tr style=\"text-align: right;\">\n",
       "      <th></th>\n",
       "      <th>userid</th>\n",
       "      <th>version</th>\n",
       "      <th>sum_gamerounds</th>\n",
       "      <th>retention_1</th>\n",
       "      <th>retention_7</th>\n",
       "    </tr>\n",
       "  </thead>\n",
       "  <tbody>\n",
       "    <tr>\n",
       "      <th>0</th>\n",
       "      <td>116</td>\n",
       "      <td>gate_30</td>\n",
       "      <td>3</td>\n",
       "      <td>False</td>\n",
       "      <td>False</td>\n",
       "    </tr>\n",
       "    <tr>\n",
       "      <th>1</th>\n",
       "      <td>337</td>\n",
       "      <td>gate_30</td>\n",
       "      <td>38</td>\n",
       "      <td>True</td>\n",
       "      <td>False</td>\n",
       "    </tr>\n",
       "    <tr>\n",
       "      <th>2</th>\n",
       "      <td>377</td>\n",
       "      <td>gate_40</td>\n",
       "      <td>165</td>\n",
       "      <td>True</td>\n",
       "      <td>False</td>\n",
       "    </tr>\n",
       "    <tr>\n",
       "      <th>3</th>\n",
       "      <td>483</td>\n",
       "      <td>gate_40</td>\n",
       "      <td>1</td>\n",
       "      <td>False</td>\n",
       "      <td>False</td>\n",
       "    </tr>\n",
       "    <tr>\n",
       "      <th>4</th>\n",
       "      <td>488</td>\n",
       "      <td>gate_40</td>\n",
       "      <td>179</td>\n",
       "      <td>True</td>\n",
       "      <td>True</td>\n",
       "    </tr>\n",
       "  </tbody>\n",
       "</table>\n",
       "</div>"
      ],
      "text/plain": [
       "   userid  version  sum_gamerounds  retention_1  retention_7\n",
       "0     116  gate_30               3        False        False\n",
       "1     337  gate_30              38         True        False\n",
       "2     377  gate_40             165         True        False\n",
       "3     483  gate_40               1        False        False\n",
       "4     488  gate_40             179         True         True"
      ]
     },
     "execution_count": 29,
     "metadata": {},
     "output_type": "execute_result"
    }
   ],
   "source": [
    "cookie_cats = 'https://raw.githubusercontent.com/a-milenkin/datasets_for_t-tests/main/cookie_cats.csv'\n",
    "\n",
    "data = pd.read_csv(cookie_cats, error_bad_lines=False)  # Откроем датасет\n",
    "data.head()"
   ]
  },
  {
   "cell_type": "markdown",
   "metadata": {},
   "source": [
    "**Данные получены от 90 189 игроков, которые установили игру во время проведения AB-теста. Переменные:**\n",
    "\n",
    "* `userid` - уникальный номер, идентифицирующий каждого игрока.\n",
    "\n",
    "* `version` - был ли игрок помещен в контрольную группу (gate_30 - ворота на уровне 30) или в тестовую группу (gate_40 - ворота на уровне 40).\n",
    "\n",
    "* `sum_gamerounds` - количество игровых раундов, сыгранных игроком в течение первой недели после установки\n",
    "* `retention_1` - проигрыватель вернулся и поиграл через 1 день после установки?\n",
    "* `retention_7` - проигрыватель вернулся и играл через 7 дней после установки?\n",
    "\n",
    "Когда игрок устанавливал игру, ему случайным образом назначали `gate_30` или `gate_40`."
   ]
  },
  {
   "cell_type": "markdown",
   "metadata": {},
   "source": [
    "<div class=\"alert alert-info\">\n",
    "<b>Задание: провести анализ данных и сделать выводы о лучшем месте для установки ворот. </b>\n",
    "    \n",
    "Замечание: приведенных вспомогательных фрагментов кода не хватает для ответа на вопрос. \n",
    "Делать выводы необходимо опираясь на статистические тесты, разобранные в лекции. Большим плюсом будет построение визуализиции для подтверждения ваших выводом. Рекомендую использовать `seaborn` c его `sns.boxplot`/`sns.carplot`, `sns.barplot`, но можно обойтись и обычном `matplotlib`\n",
    "</div>"
   ]
  },
  {
   "cell_type": "code",
   "execution_count": 30,
   "metadata": {},
   "outputs": [
    {
     "data": {
      "text/html": [
       "<div>\n",
       "<style scoped>\n",
       "    .dataframe tbody tr th:only-of-type {\n",
       "        vertical-align: middle;\n",
       "    }\n",
       "\n",
       "    .dataframe tbody tr th {\n",
       "        vertical-align: top;\n",
       "    }\n",
       "\n",
       "    .dataframe thead th {\n",
       "        text-align: right;\n",
       "    }\n",
       "</style>\n",
       "<table border=\"1\" class=\"dataframe\">\n",
       "  <thead>\n",
       "    <tr style=\"text-align: right;\">\n",
       "      <th></th>\n",
       "      <th>userid</th>\n",
       "      <th>sum_gamerounds</th>\n",
       "      <th>retention_1</th>\n",
       "      <th>retention_7</th>\n",
       "    </tr>\n",
       "    <tr>\n",
       "      <th>version</th>\n",
       "      <th></th>\n",
       "      <th></th>\n",
       "      <th></th>\n",
       "      <th></th>\n",
       "    </tr>\n",
       "  </thead>\n",
       "  <tbody>\n",
       "    <tr>\n",
       "      <th>gate_30</th>\n",
       "      <td>44700</td>\n",
       "      <td>44700</td>\n",
       "      <td>44700</td>\n",
       "      <td>44700</td>\n",
       "    </tr>\n",
       "    <tr>\n",
       "      <th>gate_40</th>\n",
       "      <td>45489</td>\n",
       "      <td>45489</td>\n",
       "      <td>45489</td>\n",
       "      <td>45489</td>\n",
       "    </tr>\n",
       "  </tbody>\n",
       "</table>\n",
       "</div>"
      ],
      "text/plain": [
       "         userid  sum_gamerounds  retention_1  retention_7\n",
       "version                                                  \n",
       "gate_30   44700           44700        44700        44700\n",
       "gate_40   45489           45489        45489        45489"
      ]
     },
     "execution_count": 30,
     "metadata": {},
     "output_type": "execute_result"
    }
   ],
   "source": [
    "#Сгрупируем результаты теста по версиям игры.\n",
    "data.groupby('version').count()"
   ]
  },
  {
   "cell_type": "code",
   "execution_count": 31,
   "metadata": {},
   "outputs": [],
   "source": [
    "#Ваши выводы"
   ]
  },
  {
   "cell_type": "code",
   "execution_count": 32,
   "metadata": {},
   "outputs": [
    {
     "data": {
      "image/png": "[encoded data removed]",
      "text/plain": [
       "<Figure size 1080x720 with 1 Axes>"
      ]
     },
     "metadata": {
      "needs_background": "light"
     },
     "output_type": "display_data"
    }
   ],
   "source": [
    "v_30 = data.loc[data.version == 'gate_30']\n",
    "v_40 = data.loc[data.version == 'gate_40']\n",
    "v_30 = v_30.drop(v_30.loc[v_30.sum_gamerounds > 200].index)\n",
    "v_40 = v_40.drop(v_40.loc[v_40.sum_gamerounds > 200].index)\n",
    "\n",
    "\n",
    "bins = 200\n",
    "plt.figure(figsize=(15, 10))\n",
    "plt.hist(v_30['sum_gamerounds'], bins=bins, alpha=1, edgecolor='black', label='gate 30')\n",
    "plt.hist(v_40['sum_gamerounds'], bins=bins, alpha=0.7, label='gate 40')\n",
    "plt.legend(loc='upper right', bbox_to_anchor=(0.45, 0.35))\n",
    "plt.show()"
   ]
  },
  {
   "cell_type": "markdown",
   "metadata": {},
   "source": [
    "**Ваши выводы**"
   ]
  },
  {
   "cell_type": "code",
   "execution_count": 33,
   "metadata": {},
   "outputs": [
    {
     "data": {
      "image/png": "[encoded data removed]",
      "text/plain": [
       "<Figure size 748.875x360 with 2 Axes>"
      ]
     },
     "metadata": {
      "needs_background": "light"
     },
     "output_type": "display_data"
    }
   ],
   "source": [
    "df = data.loc[data['sum_gamerounds'] < 100].copy();\n",
    "\n",
    "\n",
    "sns.catplot(x=\"version\", y=\"sum_gamerounds\",\n",
    "            hue=\"retention_1\", col = 'retention_7',\n",
    "            data=df, kind=\"box\",\n",
    "            height=5, aspect=.95);\n"
   ]
  },
  {
   "cell_type": "code",
   "execution_count": 34,
   "metadata": {},
   "outputs": [
    {
     "data": {
      "text/plain": [
       "<AxesSubplot:ylabel='Density'>"
      ]
     },
     "execution_count": 34,
     "metadata": {},
     "output_type": "execute_result"
    },
    {
     "data": {
      "text/plain": [
       "<Figure size 1080x720 with 0 Axes>"
      ]
     },
     "metadata": {},
     "output_type": "display_data"
    },
    {
     "data": {
      "image/png": "[encoded data removed]",
      "text/plain": [
       "<Figure size 432x288 with 1 Axes>"
      ]
     },
     "metadata": {
      "needs_background": "light"
     },
     "output_type": "display_data"
    }
   ],
   "source": [
    "#Если вдруг оказалось сложно, то вот еще ододин способ визуализации различий\n",
    "# Creating an list with bootstrapped means for each AB-group\n",
    "plt.figure(figsize=(15, 10))\n",
    "\n",
    "boot_1d = []\n",
    "for i in range(1000):\n",
    "    boot_mean = data.sample(frac = 1, replace = True).groupby('version')['retention_7'].mean()  #retention_1\n",
    "    boot_1d.append(boot_mean)\n",
    "    \n",
    "# Преобразование списка в DataFrame\n",
    "boot_1d = pd.DataFrame(boot_1d)\n",
    "    \n",
    "# A Kernel Density Estimate plot of the bootstrap distributions\n",
    "boot_1d.plot(kind='density')"
   ]
  },
  {
   "cell_type": "code",
   "execution_count": null,
   "metadata": {},
   "outputs": [],
   "source": [
    " "
   ]
  },
  {
   "cell_type": "markdown",
   "metadata": {},
   "source": [
    "#### Используя любой тест для проверки статистической гипотезы, продемонстрируйте наличие эффекта из-за сдвига ворот."
   ]
  },
  {
   "cell_type": "code",
   "execution_count": 186,
   "metadata": {},
   "outputs": [
    {
     "name": "stdout",
     "output_type": "stream",
     "text": [
      "0.07441443713953834\n",
      "0.001556530181006652\n"
     ]
    }
   ],
   "source": [
    "from scipy.stats import f_oneway \n",
    "from scipy.stats import wilcoxon\n",
    "from scipy.stats import mannwhitneyu\n",
    "import scipy.stats as stats\n",
    "\n",
    "#Ваш код. \n",
    "data_1 = data[data['version'] == 'gate_30']['retention_1']\n",
    "data_2 = data[data['version'] == 'gate_40']['retention_1']\n",
    "fvalue, pvalue = stats.ttest_ind(a = data_1, b= data_2, equal_var=False)\n",
    "print(pvalue)\n",
    "df_1 = data[data['version'] == 'gate_30']['retention_7']\n",
    "df_2 = data[data['version'] == 'gate_40']['retention_7']\n",
    "fvalue_1, pvalue_1 = stats.ttest_ind(a = df_1, b= df_2, equal_var=False)\n",
    "print(pvalue_1)"
   ]
  },
  {
   "cell_type": "code",
   "execution_count": null,
   "metadata": {},
   "outputs": [],
   "source": []
  },
  {
   "cell_type": "markdown",
   "metadata": {},
   "source": [
    "**Ваши выводы?** "
   ]
  },
  {
   "cell_type": "code",
   "execution_count": null,
   "metadata": {},
   "outputs": [],
   "source": [
    "#мы не можем считать, что сдвиг ворот влияет на retention_1 из- за pvalue  примерно равному 7, но \n",
    "#мы можем считать что на retention_7 сдвиг ворот влияет(pvalue примерно 0.0015)"
   ]
  },
  {
   "cell_type": "code",
   "execution_count": null,
   "metadata": {},
   "outputs": [],
   "source": [
    " "
   ]
  },
  {
   "cell_type": "code",
   "execution_count": null,
   "metadata": {},
   "outputs": [],
   "source": [
    " "
   ]
  },
  {
   "cell_type": "markdown",
   "metadata": {},
   "source": [
    "# Покемоны и AB-тестирование \n",
    "(реальный кейс собеседования на позицию Аналитика).\n",
    "\n",
    "\n",
    "# Описание задачи\n",
    "\n",
    "![banner](https://storage.googleapis.com/kaggle-datasets-images/635/1204/126be74882028aac7241553cef0e27a7/dataset-original.jpg)\n",
    "\n",
    "Покемоны - это маленькие существа, которые сражаются друг с другом на соревнованиях. Все покемоны имеют разные характеристики (сила атаки, защиты и т. д.) И относятся к одному или двум так называемым классам (вода, огонь и т. д.).\n",
    "Профессор Оук является изобретателем Pokedex, портативного устройства, которое хранит информацию обо всех существующих покемонах. Как его ведущий специалист по данным, Вы только что получили от него запрос с просьбой осуществить аналитику данных на всех устройствах Pokedex. \n",
    "\n",
    "## Описание набора данных\n",
    "Профессор Оук скопировал все содержимое память одного устройства Pokedex, в результате чего получился набор данных, с которым Вы будете работать в этой задаче. В этом файле каждая строка представляет характеристики одного покемона:\n",
    "\n",
    "* `pid`: Numeric - ID покемона\n",
    "* `HP`: Numeric - Очки здоровья\n",
    "* `Attack`: Numeric - Сила обычной атаки\n",
    "* `Defense`: Numeric - Сила обычной защиты\n",
    "* `Sp. Atk`: Numeric - Сила специальной атаки\n",
    "* `Sp. Def`: Numeric - Сила специальной защиты\n",
    "* `Speed`: Numeric - Скорость движений\n",
    "* `Legendary`: Boolean - «True», если покемон редкий\n",
    "* `Class 1`: Categorical - Класс покемона\n",
    "* `Class 2`: Categorical - Класс покемона"
   ]
  },
  {
   "cell_type": "code",
   "execution_count": 190,
   "metadata": {},
   "outputs": [
    {
     "data": {
      "text/html": [
       "<div>\n",
       "<style scoped>\n",
       "    .dataframe tbody tr th:only-of-type {\n",
       "        vertical-align: middle;\n",
       "    }\n",
       "\n",
       "    .dataframe tbody tr th {\n",
       "        vertical-align: top;\n",
       "    }\n",
       "\n",
       "    .dataframe thead th {\n",
       "        text-align: right;\n",
       "    }\n",
       "</style>\n",
       "<table border=\"1\" class=\"dataframe\">\n",
       "  <thead>\n",
       "    <tr style=\"text-align: right;\">\n",
       "      <th></th>\n",
       "      <th>pid</th>\n",
       "      <th>Name</th>\n",
       "      <th>Class 1</th>\n",
       "      <th>Class 2</th>\n",
       "      <th>HP</th>\n",
       "      <th>Attack</th>\n",
       "      <th>Defense</th>\n",
       "      <th>Sp. Atk</th>\n",
       "      <th>Sp. Def</th>\n",
       "      <th>Speed</th>\n",
       "      <th>Legendary</th>\n",
       "    </tr>\n",
       "  </thead>\n",
       "  <tbody>\n",
       "    <tr>\n",
       "      <th>0</th>\n",
       "      <td>1</td>\n",
       "      <td>Bulbasaur</td>\n",
       "      <td>Grass</td>\n",
       "      <td>Poison</td>\n",
       "      <td>45</td>\n",
       "      <td>49</td>\n",
       "      <td>49</td>\n",
       "      <td>65</td>\n",
       "      <td>65</td>\n",
       "      <td>45</td>\n",
       "      <td>False</td>\n",
       "    </tr>\n",
       "    <tr>\n",
       "      <th>1</th>\n",
       "      <td>2</td>\n",
       "      <td>Ivysaur</td>\n",
       "      <td>Grass</td>\n",
       "      <td>Poison</td>\n",
       "      <td>60</td>\n",
       "      <td>62</td>\n",
       "      <td>63</td>\n",
       "      <td>80</td>\n",
       "      <td>80</td>\n",
       "      <td>60</td>\n",
       "      <td>False</td>\n",
       "    </tr>\n",
       "    <tr>\n",
       "      <th>2</th>\n",
       "      <td>3</td>\n",
       "      <td>Venusaur</td>\n",
       "      <td>Grass</td>\n",
       "      <td>Poison</td>\n",
       "      <td>80</td>\n",
       "      <td>82</td>\n",
       "      <td>83</td>\n",
       "      <td>100</td>\n",
       "      <td>100</td>\n",
       "      <td>80</td>\n",
       "      <td>False</td>\n",
       "    </tr>\n",
       "    <tr>\n",
       "      <th>3</th>\n",
       "      <td>4</td>\n",
       "      <td>Mega Venusaur</td>\n",
       "      <td>Grass</td>\n",
       "      <td>Poison</td>\n",
       "      <td>80</td>\n",
       "      <td>100</td>\n",
       "      <td>123</td>\n",
       "      <td>122</td>\n",
       "      <td>120</td>\n",
       "      <td>80</td>\n",
       "      <td>False</td>\n",
       "    </tr>\n",
       "    <tr>\n",
       "      <th>4</th>\n",
       "      <td>5</td>\n",
       "      <td>Charmander</td>\n",
       "      <td>Fire</td>\n",
       "      <td>NaN</td>\n",
       "      <td>39</td>\n",
       "      <td>52</td>\n",
       "      <td>43</td>\n",
       "      <td>60</td>\n",
       "      <td>50</td>\n",
       "      <td>65</td>\n",
       "      <td>False</td>\n",
       "    </tr>\n",
       "  </tbody>\n",
       "</table>\n",
       "</div>"
      ],
      "text/plain": [
       "   pid           Name Class 1 Class 2  HP  Attack  Defense  Sp. Atk  Sp. Def  \\\n",
       "0    1      Bulbasaur   Grass  Poison  45      49       49       65       65   \n",
       "1    2        Ivysaur   Grass  Poison  60      62       63       80       80   \n",
       "2    3       Venusaur   Grass  Poison  80      82       83      100      100   \n",
       "3    4  Mega Venusaur   Grass  Poison  80     100      123      122      120   \n",
       "4    5     Charmander    Fire     NaN  39      52       43       60       50   \n",
       "\n",
       "   Speed  Legendary  \n",
       "0     45      False  \n",
       "1     60      False  \n",
       "2     80      False  \n",
       "3     80      False  \n",
       "4     65      False  "
      ]
     },
     "execution_count": 190,
     "metadata": {},
     "output_type": "execute_result"
    }
   ],
   "source": [
    "pokemon_path = 'https://raw.githubusercontent.com/a-milenkin/datasets_for_t-tests/main/pokemon.csv'\n",
    "pokemon = pd.read_csv(pokemon_path, error_bad_lines=False)  # Откроем датасет\n",
    "pokemon.head()\n",
    "\n",
    " \n",
    "#Обратите внимание, что у покемона может быть один или два класса. Если у покемона два класса, считается,\n",
    "#что они имеют одинаковую значимость."
   ]
  },
  {
   "cell_type": "markdown",
   "metadata": {},
   "source": [
    "# Задачи"
   ]
  },
  {
   "cell_type": "markdown",
   "metadata": {},
   "source": [
    "<div class=\"alert alert-info\">\n",
    "<b>Задание № 1:</b>\n",
    "    \n",
    "Профессор Оук подозревает, что покемоны в классе `grass` имеют более сильную обычную атаку, чем у покемонов в классе `rock`. Проверьте, прав ли он, и убедите его в своем выводе статистически.\n",
    "    \n",
    "    \n",
    "Примечание: если есть покемоны, которые относятся к обоим классам, просто выбросьте их;\n",
    "    \n",
    "Вы можете предположить, что распределение обычных атак является нормальным для всех классов покемонов.\n",
    "\n",
    "</div>\n"
   ]
  },
  {
   "cell_type": "code",
   "execution_count": 262,
   "metadata": {},
   "outputs": [
    {
     "name": "stdout",
     "output_type": "stream",
     "text": [
      "Ttest_indResult(statistic=-3.4169379582521513, pvalue=0.0009640546913545304)\n"
     ]
    },
    {
     "data": {
      "image/png": "[encoded data removed]",
      "text/plain": [
       "<Figure size 432x288 with 1 Axes>"
      ]
     },
     "metadata": {
      "needs_background": "light"
     },
     "output_type": "display_data"
    }
   ],
   "source": [
    "a = pokemon[pokemon['Class 2'] == 'Grass']\n",
    "b = pokemon[pokemon['Class 1'] == 'Grass']\n",
    "a = a.loc[a['Class 1'] != 'Rock']\n",
    "b = b.loc[b['Class 2'] != 'Rock']\n",
    "A = pd.concat([a, b])\n",
    "A = A['Attack']\n",
    "a = pokemon[pokemon['Class 2'] == 'Rock']\n",
    "b = pokemon[pokemon['Class 1'] == 'Rock']\n",
    "a = a.loc[a['Class 1'] != 'Grass']\n",
    "b = b.loc[b['Class 2'] != 'Grass']\n",
    "B = pd.concat([a, b])\n",
    "B = B['Attack']\n",
    "print(stats.ttest_ind(a = A, b= B, equal_var = False))\n",
    "plt.hist(A, bins = 10, alpha = 0.5, density = True);\n",
    "plt.hist(B, bins = 10, alpha = 0.5, density = True);\n",
    "# с учетом никзого pvalue можно сказать что у какого-то класса атака явно больше, из визуализации видно что у класса rock\n",
    "# атака в среднем сильнее."
   ]
  },
  {
   "cell_type": "markdown",
   "metadata": {},
   "source": [
    "<div class=\"alert alert-info\">\n",
    "<b>Задание № 2:</b>\n",
    "    \n",
    "Профессор Оук уже долго не может спать по ночам ведь его волнует вопрос, а правда, что покемоны что покемоны в классе `Water` в среднем более быстрые, чем покемоны в классе `Normal`. \n",
    "    \n",
    "    \n",
    "Проверьте, прав ли он, и убедите его в своем выводе статистически.\n",
    "    \n",
    "Примечание: если есть покемоны относятся к обоим классам, выбросьте их;\n",
    "    \n",
    "Вы можете предположить, что распределение скорости движения является нормальным для всех классов покемонов.\n",
    "\n",
    "</div>"
   ]
  },
  {
   "cell_type": "code",
   "execution_count": 263,
   "metadata": {},
   "outputs": [
    {
     "name": "stdout",
     "output_type": "stream",
     "text": [
      "Ttest_indResult(statistic=-2.101186385266549, pvalue=0.03694772338274292)\n"
     ]
    },
    {
     "data": {
      "image/png": "[encoded data removed]",
      "text/plain": [
       "<Figure size 432x288 with 1 Axes>"
      ]
     },
     "metadata": {
      "needs_background": "light"
     },
     "output_type": "display_data"
    }
   ],
   "source": [
    "a = pokemon[pokemon['Class 2'] == 'Water']\n",
    "b = pokemon[pokemon['Class 1'] == 'Water']\n",
    "a = a.loc[a['Class 1'] != 'Normal']\n",
    "b = b.loc[b['Class 2'] != 'Normal']\n",
    "A = pd.concat([a, b])\n",
    "A = A['Speed']\n",
    "a = pokemon[pokemon['Class 2'] == 'Normal']\n",
    "b = pokemon[pokemon['Class 1'] == 'Normal']\n",
    "a = a.loc[a['Class 1'] != 'Water']\n",
    "b = b.loc[b['Class 2'] != 'Water']\n",
    "B = pd.concat([a, b])\n",
    "B = B['Speed']\n",
    "print(stats.ttest_ind(a = A, b= B, equal_var = False))\n",
    "plt.hist(A, bins = 10, alpha = 0.5, density = True);\n",
    "plt.hist(B, bins = 10, alpha = 0.5, density = True);\n",
    "# с учетом выского pvalue  нельзя отлокнить нулевую гипотезуЮ а значит мы не можем сказать что покемоны какого-то из этих\n",
    "# классов быстрее"
   ]
  },
  {
   "cell_type": "markdown",
   "metadata": {},
   "source": [
    "<div class=\"alert alert-info\">\n",
    "<b>Задание № 3:</b>\n",
    "    \n",
    "Профессор Оук тот еще безумец. Он изобрел сыворотку, способную ускорить покемона. Однако, мы усомнились в эффективности его вакцины. Професоор дал эту сыворотку следующим покемонам: смотри массив `treathed_pokemon`. Проверьте, работает ли вообще его сыворотка, убедите всех в своем выводе статистически.\n",
    "    \n",
    "    \n",
    "Вы можете предположить, что распределение скорости движения является нормальным для всех классов покемонов.\n",
    "\n",
    "</div>"
   ]
  },
  {
   "cell_type": "code",
   "execution_count": null,
   "metadata": {},
   "outputs": [],
   "source": []
  },
  {
   "cell_type": "markdown",
   "metadata": {},
   "source": [
    "<div class=\"alert alert-info\">\n",
    "<b>Задание № 4:</b>\n",
    "    \n",
    "Профессор Оук тот еще безумец. Он изобрел сыворотку, способную ускорить покемона. Однако, мы усомнились в эффективности его вакцины. Професоор дал эту сыворотку следующим покемонам: смотри массив `treathed_pokemon`. Проверьте, работает ли вообще его сыворотка, убедите всех в своем выводе статистически.\n",
    "    \n",
    "    \n",
    "Вы можете предположить, что распределение скорости движения является нормальным для всех классов покемонов.\n",
    "\n",
    "</div>"
   ]
  },
  {
   "cell_type": "code",
   "execution_count": 265,
   "metadata": {},
   "outputs": [],
   "source": [
    "# Покемоны, которые принимали сыворотку увеличения скорости\n",
    "treathed_pokemon = ['Mega Beedrill','Mega Alakazam', 'Deoxys Normal Forme', 'Mega Lopunny']"
   ]
  },
  {
   "cell_type": "code",
   "execution_count": 285,
   "metadata": {},
   "outputs": [
    {
     "name": "stdout",
     "output_type": "stream",
     "text": [
      "[0.00021099]\n"
     ]
    },
    {
     "data": {
      "image/png": "[encoded data removed]",
      "text/plain": [
       "<Figure size 432x288 with 1 Axes>"
      ]
     },
     "metadata": {
      "needs_background": "light"
     },
     "output_type": "display_data"
    }
   ],
   "source": [
    "A = pokemon[pokemon.Name.isin(treathed_pokemon)]\n",
    "A = A[['Speed']]\n",
    "B = pokemon.loc[~ pokemon.Name.isin(treathed_pokemon)]\n",
    "B = B[['Speed']]\n",
    "f, p =stats.ttest_1samp(a=A, popmean=B.mean())\n",
    "print(p)\n",
    "plt.hist(A, bins = 5, alpha = 0.5, density = True);\n",
    "plt.hist(B, bins = 5, alpha = 0.5, density = True);\n",
    "# по низкому значению Pvalue можно сказать что сыворотка профессора работает что видно на визуализации"
   ]
  },
  {
   "cell_type": "markdown",
   "metadata": {},
   "source": [
    "<div class=\"alert alert-info\">\n",
    "<b>Задание № 5:</b>\n",
    "    \n",
    "Профессор Оук всегда любил истории про легендарных покемонов. Однако, профессор не очень уверен, что они самые лучшие относительно остальных покемонов. Оук предложил разобраться в этом нам. Проверьте, действительно ли сумма характеристик `HP`,`Attack`,`Defense` у легендарных покемонов выше, чем у других покемонов? А произведение этих же параметров?? Найдите ответы на эти вопросы и убедите всех в своем выводе статистически.\n",
    "   \n",
    "\n",
    "Вы можете предположить, что распределение сум и произведений этих параметров является нормальным для всех классов покемонов.\n",
    "\n",
    "</div>"
   ]
  },
  {
   "cell_type": "code",
   "execution_count": 308,
   "metadata": {},
   "outputs": [
    {
     "name": "stdout",
     "output_type": "stream",
     "text": [
      "Ttest_indResult(statistic=15.19759110757148, pvalue=2.9282718703329855e-26)\n"
     ]
    },
    {
     "data": {
      "image/png": "[encoded data removed]",
      "text/plain": [
       "<Figure size 432x288 with 1 Axes>"
      ]
     },
     "metadata": {
      "needs_background": "light"
     },
     "output_type": "display_data"
    }
   ],
   "source": [
    "A = pokemon[pokemon.Legendary == True][['HP','Attack', 'Defense']].sum(axis=1)\n",
    "B = pokemon[pokemon.Legendary == False][['HP','Attack', 'Defense']].sum(axis=1)\n",
    "print(stats.ttest_ind(a = A, b = B, equal_var = False))\n",
    "plt.hist(A, bins = 5, alpha = 0.5, density = True);\n",
    "plt.hist(B, bins = 5, alpha = 0.5, density = True);"
   ]
  },
  {
   "cell_type": "code",
   "execution_count": 309,
   "metadata": {},
   "outputs": [
    {
     "name": "stdout",
     "output_type": "stream",
     "text": [
      "Ttest_indResult(statistic=array([10.07907851]), pvalue=array([2.89503888e-15]))\n"
     ]
    },
    {
     "name": "stderr",
     "output_type": "stream",
     "text": [
      "<ipython-input-309-6d61a89b2a38>:2: SettingWithCopyWarning: \n",
      "A value is trying to be set on a copy of a slice from a DataFrame.\n",
      "Try using .loc[row_indexer,col_indexer] = value instead\n",
      "\n",
      "See the caveats in the documentation: https://pandas.pydata.org/pandas-docs/stable/user_guide/indexing.html#returning-a-view-versus-a-copy\n",
      "  A['total'] = A['HP'] * A['Attack'] * A['Defense']\n",
      "<ipython-input-309-6d61a89b2a38>:5: SettingWithCopyWarning: \n",
      "A value is trying to be set on a copy of a slice from a DataFrame.\n",
      "Try using .loc[row_indexer,col_indexer] = value instead\n",
      "\n",
      "See the caveats in the documentation: https://pandas.pydata.org/pandas-docs/stable/user_guide/indexing.html#returning-a-view-versus-a-copy\n",
      "  B['total'] =B['HP'] * B['Attack'] * B['Defense']\n"
     ]
    },
    {
     "data": {
      "image/png": "[encoded data removed]",
      "text/plain": [
       "<Figure size 432x288 with 1 Axes>"
      ]
     },
     "metadata": {
      "needs_background": "light"
     },
     "output_type": "display_data"
    }
   ],
   "source": [
    "A = pokemon[pokemon.Legendary == True]\n",
    "A['total'] = A['HP'] * A['Attack'] * A['Defense']\n",
    "A = A[['total']]\n",
    "B = pokemon[pokemon.Legendary == False]\n",
    "B['total'] =B['HP'] * B['Attack'] * B['Defense']\n",
    "B = B[['total']]\n",
    "print(stats.ttest_ind(a = A, b = B, equal_var = False))\n",
    "plt.hist(A, bins = 5, alpha = 0.5, density = True);\n",
    "plt.hist(B, bins = 5, alpha = 0.5, density = True);\n",
    "# и сумма и произведения этих параметров у легендарных покемонов в среднем больше"
   ]
  },
  {
   "cell_type": "markdown",
   "metadata": {},
   "source": [
    "<div class=\"alert alert-info\">\n",
    "<b>Задание № 6:</b>\n",
    "    \n",
    "Профессор Оук частенько наблюдает за боями покемонов. После очередных таких боев Оук выделил три класса `best_defence_class`, которые на его взгляд одинаковы по \"силе обычной защиты\" `Defense`. Проверьте, действительно ли эти классы покемонов не отличаются по уровню защиты статистически значимо? Все та же статистика вам в помощь! \n",
    "   \n",
    "\n",
    "Вы можете предположить, что распределение сум и произведений этих параметров является нормальным для всех классов покемонов.\n",
    "\n",
    "</div>"
   ]
  },
  {
   "cell_type": "code",
   "execution_count": 311,
   "metadata": {},
   "outputs": [
    {
     "data": {
      "text/plain": [
       "['Rock', 'Ground', 'Steel', 'Ice']"
      ]
     },
     "execution_count": 311,
     "metadata": {},
     "output_type": "execute_result"
    }
   ],
   "source": [
    "best_defence_class = ['Rock', 'Ground','Steel','Ice']\n",
    "best_defence_class"
   ]
  },
  {
   "cell_type": "code",
   "execution_count": 321,
   "metadata": {},
   "outputs": [
    {
     "name": "stdout",
     "output_type": "stream",
     "text": [
      "[1.23152817e-06]\n"
     ]
    },
    {
     "data": {
      "image/png": "[encoded data removed]",
      "text/plain": [
       "<Figure size 432x288 with 1 Axes>"
      ]
     },
     "metadata": {
      "needs_background": "light"
     },
     "output_type": "display_data"
    }
   ],
   "source": [
    "a = pokemon[pokemon['Class 2'] == 'Rock']\n",
    "b = pokemon[pokemon['Class 1'] == 'Rock']\n",
    "A = pd.concat([a, b])\n",
    "A = A[['Defense']]\n",
    "a = pokemon[pokemon['Class 2'] == 'Ground']\n",
    "b = pokemon[pokemon['Class 1'] == 'Ground']\n",
    "B = pd.concat([a, b])\n",
    "B = B[['Defense']]\n",
    "a = pokemon[pokemon['Class 2'] == 'Steel']\n",
    "b = pokemon[pokemon['Class 1'] == 'Steel']\n",
    "C = pd.concat([a, b])\n",
    "C = C[['Defense']]\n",
    "a = pokemon[pokemon['Class 2'] == 'Ice']\n",
    "b = pokemon[pokemon['Class 1'] == 'Ice']\n",
    "D = pd.concat([a, b])\n",
    "D = D[['Defense']]\n",
    "F, p = f_oneway(A, B ,C, D)\n",
    "print(p)\n",
    "plt.hist(A, bins = 5, alpha = 0.3, density = True);\n",
    "plt.hist(B, bins = 5, alpha = 0.3, density = True);\n",
    "plt.hist(C, bins = 5, alpha = 0.3, density = True);\n",
    "plt.hist(D, bins = 5, alpha = 0.3, density = True);\n",
    "# профессор неправ, классы неодинаковы так как pvalue низкий"
   ]
  },
  {
   "cell_type": "code",
   "execution_count": null,
   "metadata": {},
   "outputs": [],
   "source": []
  }
 ],
 "metadata": {
  "kernelspec": {
   "display_name": "Python 3",
   "language": "python",
   "name": "python3"
  },
  "language_info": {
   "codemirror_mode": {
    "name": "ipython",
    "version": 3
   },
   "file_extension": ".py",
   "mimetype": "text/x-python",
   "name": "python",
   "nbconvert_exporter": "python",
   "pygments_lexer": "ipython3",
   "version": "3.8.5"
  }
 },
 "nbformat": 4,
 "nbformat_minor": 4
}
